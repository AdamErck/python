{
 "cells": [
  {
   "cell_type": "markdown",
   "metadata": {},
   "source": [
    "# Introduction to Letter Frequency Analysis with Python\n",
    "### By Adam Erck"
   ]
  },
  {
   "cell_type": "markdown",
   "metadata": {},
   "source": [
    "## What is Jupyter?\n",
    "> \"The Jupyter Notebook is an open-source web application that allows you to create and share documents that contain live code, equations, visualizations and narrative text. Uses include: data cleaning and transformation, numerical simulation, statistical modeling, data visualization, machine learning, and much more.\"  _-jupyter.org_"
   ]
  },
  {
   "cell_type": "markdown",
   "metadata": {},
   "source": [
    "## What is Letter Frequency Analysis?\n",
    "\n",
    "_Frequency analysis is determining how often a letter appears in text samples._\n",
    "\n",
    "Wiki Book: [In the field of cryptanalysis, frequency analysis is a methodology for \"breaking\" simple substitution ciphers.](https://en.wikibooks.org/wiki/Cryptography/Frequency_analysis)\n",
    "\n",
    "![Crypto-compare](files/crypto.jpg) [_image source_](http://theamazingking.com/crypto-ana101.php)"
   ]
  },
  {
   "cell_type": "markdown",
   "metadata": {},
   "source": [
    "## Example 1: Simple String of Text (Slow)\n",
    "For the first two examples, we will look at a test string containing `abcde` 5 times over. "
   ]
  },
  {
   "cell_type": "code",
   "execution_count": 28,
   "metadata": {},
   "outputs": [],
   "source": [
    "#test string to be analyzed\n",
    "test_string = \"abcdeabcdeabcdeabcdeabcde\""
   ]
  },
  {
   "cell_type": "markdown",
   "metadata": {},
   "source": [
    "Creating a function will allow us to reuse this piece of code and pass different text samples to it.   \n",
    "In this function, we will use a loop counter to tally the letter frequencies.\n",
    "* text\n",
    "* char\n",
    "* count"
   ]
  },
  {
   "cell_type": "code",
   "execution_count": 29,
   "metadata": {},
   "outputs": [],
   "source": [
    "def count_char(text, char):\n",
    "    \"\"\"This function uses count to tally the number of times \n",
    "    a character occurs in a string\"\"\"\n",
    "    count = 0\n",
    "    for c in text:\n",
    "        if c == char:\n",
    "            count += 1\n",
    "    return count"
   ]
  },
  {
   "cell_type": "code",
   "execution_count": 30,
   "metadata": {},
   "outputs": [],
   "source": [
    "def letterCounterS(text):\n",
    "    \"\"\"This function was constructed using examples from the code learning app Solo Learn. \n",
    "    This function uses a nested for loop to see if the character (char) is in the \n",
    "    supplied string 'text'. Returns a list containing the counts of each letter.\"\"\"\n",
    "    counts = []\n",
    "    \n",
    "    #convert string 'text' to all lowercase.\n",
    "    text = text.lower()\n",
    "\n",
    "    for char in \"abcdefghijklmnopqrstuvwxyz\":\n",
    "        counts.append(char + str(count_char(text, char)))\n",
    "    return counts"
   ]
  },
  {
   "cell_type": "code",
   "execution_count": 31,
   "metadata": {},
   "outputs": [
    {
     "name": "stdout",
     "output_type": "stream",
     "text": [
      "['a5', 'b5', 'c5', 'd5', 'e5', 'f0', 'g0', 'h0', 'i0', 'j0', 'k0', 'l0', 'm0', 'n0', 'o0', 'p0', 'q0', 'r0', 's0', 't0', 'u0', 'v0', 'w0', 'x0', 'y0', 'z0']\n"
     ]
    }
   ],
   "source": [
    "#Using our text file in the letterCounterS() function.\n",
    "print(letterCounterS(test_string))"
   ]
  },
  {
   "cell_type": "markdown",
   "metadata": {},
   "source": [
    "As we can see, after running the letterCounter function, there were 5 instances each for the letters `a`, `b`, `c`, `d`, and `e` as expected."
   ]
  },
  {
   "cell_type": "markdown",
   "metadata": {},
   "source": [
    "## Example 2: Simple String of Text (Fast)"
   ]
  },
  {
   "cell_type": "code",
   "execution_count": 32,
   "metadata": {},
   "outputs": [],
   "source": [
    "#Our starting test string that will be analyzed.\n",
    "test_string = \"abcdeabcdeabcdeabcdeabcde\""
   ]
  },
  {
   "cell_type": "code",
   "execution_count": 33,
   "metadata": {},
   "outputs": [],
   "source": [
    "def letterCounter(text):\n",
    "    \"\"\"This function takes an input string and counts the occurrences of \n",
    "    the letters a-z and A-Z and returns a dictionary with\n",
    "    key:value pairs representing the key letter and an associated value \n",
    "    representing the number of  occurrences.\n",
    "    Note: This function counts both 'a' and 'A' as an occurrence of 'a'.\"\"\"\n",
    "    letters_of_interest=\"abcdefghijklmnopqrstuvwxyz\"\n",
    "\n",
    "\n",
    "    #The dictionary object that will contain the frequency (number of occurrences) \n",
    "    #of each letter in our test-string.\n",
    "    #Each key:value pair represents the key letter and an associated value representing \n",
    "    #the number of  occurrences.\n",
    "    letter_frequency={\"a\" : 0, \"b\" : 0, \"c\" : 0, \"d\" : 0, \"e\" : 0, \"f\" : 0, \"g\" : 0, \"h\" : 0, \"i\" : 0, \"j\" : 0, \"k\" : 0,\n",
    "         \"l\" : 0, \"m\" : 0, \"n\" : 0, \"o\" : 0, \"p\" : 0, \"q\" : 0, \"r\" : 0, \"s\" : 0, \"t\" : 0, \"u\" : 0, \"v\" : 0, \"w\" : 0, \"x\" : 0, \"y\" : 0, \"z\" : 0}\n",
    "\n",
    "    #convert string 'text' to all lowercase.\n",
    "    text = text.lower()\n",
    "\n",
    "    #Checking each character (char) in the string 'text' to see if it is a letter a-z, \n",
    "    #and counting it if is a letter\n",
    "    for char in text:\n",
    "        if char in letters_of_interest:\n",
    "            letter_frequency[char]=letter_frequency[char]+1\n",
    "\n",
    "    #return the letter-frequency dictionary\n",
    "    return letter_frequency"
   ]
  },
  {
   "cell_type": "code",
   "execution_count": 34,
   "metadata": {},
   "outputs": [
    {
     "name": "stdout",
     "output_type": "stream",
     "text": [
      "{'a': 5, 'b': 5, 'c': 5, 'd': 5, 'e': 5, 'f': 0, 'g': 0, 'h': 0, 'i': 0, 'j': 0, 'k': 0, 'l': 0, 'm': 0, 'n': 0, 'o': 0, 'p': 0, 'q': 0, 'r': 0, 's': 0, 't': 0, 'u': 0, 'v': 0, 'w': 0, 'x': 0, 'y': 0, 'z': 0}\n"
     ]
    }
   ],
   "source": [
    "#Using our text file in the letterCounter() function.\n",
    "print(letterCounter(test_string))"
   ]
  }
 ],
 "metadata": {
  "kernelspec": {
   "display_name": "Python 3",
   "language": "python",
   "name": "python3"
  },
  "language_info": {
   "codemirror_mode": {
    "name": "ipython",
    "version": 3
   },
   "file_extension": ".py",
   "mimetype": "text/x-python",
   "name": "python",
   "nbconvert_exporter": "python",
   "pygments_lexer": "ipython3",
   "version": "3.6.5"
  }
 },
 "nbformat": 4,
 "nbformat_minor": 1
}

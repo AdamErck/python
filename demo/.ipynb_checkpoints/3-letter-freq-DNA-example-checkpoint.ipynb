{
 "cells": [
  {
   "cell_type": "markdown",
   "metadata": {},
   "source": [
    "## Example 5 - DNA Analysis"
   ]
  },
  {
   "cell_type": "code",
   "execution_count": 4,
   "metadata": {},
   "outputs": [],
   "source": [
    "#Test string of DNA\n",
    "dna_test = \"ATGCTTAGTCAGTCATGCACCCAAGTTTGACCTTTTAAACGGAAC\""
   ]
  },
  {
   "cell_type": "code",
   "execution_count": 5,
   "metadata": {},
   "outputs": [],
   "source": [
    "def dnaToProtein(sequence):\n",
    "    \"\"\"This function takes a string dna sequence and uses a codon table \n",
    "    to convert the sequence into a protein sequence and returns it.\n",
    "    Note: This function does NOT take into account start and stop sequences \n",
    "    to get real proteins from real DNA sequences.\"\"\"\n",
    "\n",
    "    protein = \"\"\n",
    "\n",
    "    \"\"\"Dictionary object where the keys are codons and the values are \n",
    "    amino acid residues: Dictionary provided by pythonforbiologists.com\n",
    "    Note: this is only an example list\"\"\"\n",
    "    codons = { 'ATA':'I', 'ATC':'I', 'ATT':'I', 'ATG':'M', 'ACA':'T', 'ACC':'T', 'ACG':'T', 'ACT':'T', 'AAC':'N', 'AAT':'N', 'AAA':'K',\n",
    "    'AAG':'K', 'AGC':'S', 'AGT':'S', 'AGA':'R', 'AGG':'R', 'CTA':'L', 'CTC':'L', 'CTG':'L', 'CTT':'L', 'CCA':'P', 'CCC':'P', 'CCG':'P',\n",
    "    'CCT':'P', 'CAC':'H', 'CAT':'H', 'CAA':'Q', 'CAG':'Q', 'CGA':'R', 'CGC':'R', 'CGG':'R', 'CGT':'R', 'GTA':'V', 'GTC':'V', 'GTG':'V',\n",
    "    'GTT':'V', 'GCA':'A', 'GCC':'A', 'GCG':'A', 'GCT':'A', 'GAC':'D', 'GAT':'D', 'GAA':'E', 'GAG':'E', 'GGA':'G', 'GGC':'G', 'GGG':'G',\n",
    "    'GGT':'G', 'TCA':'S', 'TCC':'S', 'TCG':'S', 'TCT':'S', 'TTC':'F', 'TTT':'F', 'TTA':'L', 'TTG':'L', 'TAC':'Y', 'TAT':'Y', 'TAA':'_',\n",
    "    'TAG':'_', 'TGC':'C', 'TGT':'C', 'TGA':'_', 'TGG':'W'}\n",
    "\n",
    "    for n in range(0, len(sequence), 3):\n",
    "        if sequence[n:n+3] in codons:\n",
    "            protein = protein + codons[sequence[n:n+3]]\n",
    "    return protein"
   ]
  },
  {
   "cell_type": "code",
   "execution_count": 6,
   "metadata": {},
   "outputs": [
    {
     "name": "stdout",
     "output_type": "stream",
     "text": [
      "MLSQSCTQV_PFKRN\n"
     ]
    }
   ],
   "source": [
    "#testing the dnaToProtein function with the test sequence 'dna_test'\n",
    "print(dnaToProtein(dna_test))"
   ]
  }
 ],
 "metadata": {
  "kernelspec": {
   "display_name": "Python 3",
   "language": "python",
   "name": "python3"
  },
  "language_info": {
   "codemirror_mode": {
    "name": "ipython",
    "version": 3
   },
   "file_extension": ".py",
   "mimetype": "text/x-python",
   "name": "python",
   "nbconvert_exporter": "python",
   "pygments_lexer": "ipython3",
   "version": "3.6.5"
  }
 },
 "nbformat": 4,
 "nbformat_minor": 1
}

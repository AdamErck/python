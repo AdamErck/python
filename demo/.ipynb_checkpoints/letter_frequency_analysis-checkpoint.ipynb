{
 "cells": [
  {
   "cell_type": "markdown",
   "metadata": {},
   "source": [
    "# Introduction to Letter Frequency Analysis with Python\n",
    "## By Adam Erck"
   ]
  },
  {
   "cell_type": "markdown",
   "metadata": {},
   "source": [
    "In this tutorial, you will learn the basics on how to use python for letter frequency analysis.  "
   ]
  },
  {
   "cell_type": "markdown",
   "metadata": {},
   "source": [
    "## Contents\n",
    "* [What is Jupyter](#What-is-Jupyter?)\n",
    "* [Letter Frequency Analysis](#Letter-Frequency-Analysis)\n",
    "* [Analysis of \"We shall fight on the beaches\"](#Analysis-of-\"We-shall-fight-on-the-beaches\")"
   ]
  },
  {
   "cell_type": "markdown",
   "metadata": {},
   "source": [
    "## What is Jupyter?\n",
    "First link of contents"
   ]
  },
  {
   "cell_type": "markdown",
   "metadata": {},
   "source": [
    "## Letter Frequency Analysis\n",
    "\n",
    "For our first example, we will look at a test string containing 'abcde' 5 times over. "
   ]
  },
  {
   "cell_type": "code",
   "execution_count": 7,
   "metadata": {},
   "outputs": [
    {
     "name": "stdout",
     "output_type": "stream",
     "text": [
      "{'a': 5, 'b': 5, 'c': 5, 'd': 5, 'e': 5, 'f': 0, 'g': 0, 'h': 0, 'i': 0, 'j': 0, 'k': 0, 'l': 0, 'm': 0, 'n': 0, 'o': 0, 'p': 0, 'q': 0, 'r': 0, 's': 0, 't': 0, 'u': 0, 'v': 0, 'w': 0, 'x': 0, 'y': 0, 'z': 0}\n"
     ]
    }
   ],
   "source": [
    "#Our starting test string that will be analyzed.\n",
    "test_string = \"abcdeabcdeabcdeabcdeabcde\"\n",
    "\n",
    "def letterCounter(text):\n",
    "    \"\"\"This function takes an input string and counts the occurrences of the letters a-z and A-Z and returns a dictionary with \n",
    "    key:value pairs representing the key letter and an associated value representing the number of  occurrences. \n",
    "    Note: This function counts both 'a' and 'A' as an occurrence of 'a'.\"\"\"\n",
    "    letters_of_interest=\"abcdefghijklmnopqrstuvwxyz\"\n",
    "    \n",
    "    #The dictionary object that will contain the frequency (number of occurrences) of each letter in our test-string. \n",
    "    #Each key:value pair represents the key letter and an associated value representing the number of  occurrences.\n",
    "    letter_frequency={\"a\" : 0, \"b\" : 0, \"c\" : 0, \"d\" : 0, \"e\" : 0, \"f\" : 0, \"g\" : 0, \"h\" : 0, \"i\" : 0, \"j\" : 0, \"k\" : 0,\n",
    "        \"l\" : 0, \"m\" : 0, \"n\" : 0, \"o\" : 0, \"p\" : 0, \"q\" : 0, \"r\" : 0, \"s\" : 0, \"t\" : 0, \"u\" : 0, \"v\" : 0, \"w\" : 0,\n",
    "        \"x\" : 0, \"y\" : 0, \"z\" : 0}\n",
    "    \n",
    "    #convert string 'text' to all lowercase.\n",
    "    text = text.lower()\n",
    "    \n",
    "    #Checking each character (char) in the string 'text' to see if it is a letter a-z, and counting it if is a letter\n",
    "    for char in text:\n",
    "        if char in letters_of_interest:\n",
    "            letter_frequency[char]=letter_frequency[char]+1\n",
    "    \n",
    "    #return the letter-frequency dictionary\n",
    "    return letter_frequency\n",
    "\n",
    "print(letterCounter(test_string))\n"
   ]
  },
  {
   "cell_type": "markdown",
   "metadata": {},
   "source": [
    "As we can see, after running the letterCounter function, there was 5 instances each for the letters 'a', 'b', 'c', 'd', and 'e' as expected. Now that we know this function works we can look at more interesting text."
   ]
  },
  {
   "cell_type": "markdown",
   "metadata": {},
   "source": [
    "## Analysis of \"We shall fight on the beaches\"\n",
    "\n",
    "In this section, we will run an analysis using the letterCounter function on Winston Churchill's \"We shall fight on the beaches\" speech."
   ]
  },
  {
   "cell_type": "code",
   "execution_count": null,
   "metadata": {
    "collapsed": true
   },
   "outputs": [],
   "source": []
  }
 ],
 "metadata": {
  "kernelspec": {
   "display_name": "Python 3",
   "language": "python",
   "name": "python3"
  },
  "language_info": {
   "codemirror_mode": {
    "name": "ipython",
    "version": 3
   },
   "file_extension": ".py",
   "mimetype": "text/x-python",
   "name": "python",
   "nbconvert_exporter": "python",
   "pygments_lexer": "ipython3",
   "version": "3.6.5"
  }
 },
 "nbformat": 4,
 "nbformat_minor": 1
}

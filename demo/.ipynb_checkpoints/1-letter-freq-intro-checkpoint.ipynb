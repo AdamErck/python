{
 "cells": [
  {
   "cell_type": "code",
   "execution_count": null,
   "metadata": {},
   "outputs": [],
   "source": [
    "# Letter Frequency Analysis"
   ]
  },
  {
   "cell_type": "code",
   "execution_count": null,
   "metadata": {},
   "outputs": [],
   "source": []
  },
  {
   "cell_type": "code",
   "execution_count": null,
   "metadata": {},
   "outputs": [],
   "source": [
    "## Part 1 - Slow"
   ]
  },
  {
   "cell_type": "code",
   "execution_count": null,
   "metadata": {},
   "outputs": [],
   "source": []
  },
  {
   "cell_type": "code",
   "execution_count": null,
   "metadata": {},
   "outputs": [],
   "source": [
    "#Our starting test string that will be analyzed.\n",
    "test_string = \"abcdeabcdeabcdeabcdeabcde\""
   ]
  },
  {
   "cell_type": "code",
   "execution_count": null,
   "metadata": {},
   "outputs": [],
   "source": []
  },
  {
   "cell_type": "code",
   "execution_count": null,
   "metadata": {},
   "outputs": [],
   "source": [
    "def count_char(text, char):\n",
    "    \"\"\"Function uses count to count the number of times a character occurs in a string\"\"\"\n",
    "    count = 0\n",
    "    for c in text:\n",
    "        if c == char:\n",
    "            count += 1\n",
    "    return count"
   ]
  },
  {
   "cell_type": "code",
   "execution_count": null,
   "metadata": {},
   "outputs": [],
   "source": []
  },
  {
   "cell_type": "code",
   "execution_count": null,
   "metadata": {},
   "outputs": [],
   "source": [
    "def letterCounterS(text):\n",
    "    \"\"\"This function was constructed using examples from the code learning app Solo Learn. This function uses a nested for loop to see if\n",
    "    the character (char) is in the supplied string 'text'. Returns a list containing the counts of each letter.'\"\"\"\n",
    "    counts = []\n",
    "     #convert string 'text' to all lowercase.\n",
    "    text = text.lower()\n",
    "\n",
    "    for char in \"abcdefghijklmnopqrstuvwxyz\":\n",
    "        counts.append(char + String(count_char(text, char)))\n",
    "    return counts"
   ]
  },
  {
   "cell_type": "code",
   "execution_count": null,
   "metadata": {},
   "outputs": [],
   "source": []
  },
  {
   "cell_type": "code",
   "execution_count": null,
   "metadata": {},
   "outputs": [],
   "source": [
    "#Using our text file in the letterCounterS() function.\n",
    "print(letterCounterS(test_string))"
   ]
  },
  {
   "cell_type": "code",
   "execution_count": null,
   "metadata": {},
   "outputs": [],
   "source": []
  },
  {
   "cell_type": "code",
   "execution_count": null,
   "metadata": {},
   "outputs": [],
   "source": [
    "## Part 2 - Fast"
   ]
  },
  {
   "cell_type": "code",
   "execution_count": null,
   "metadata": {},
   "outputs": [],
   "source": []
  },
  {
   "cell_type": "code",
   "execution_count": null,
   "metadata": {},
   "outputs": [],
   "source": [
    "#Our starting test string that will be analyzed.\n",
    "test_string = \"abcdeabcdeabcdeabcdeabcde\""
   ]
  },
  {
   "cell_type": "code",
   "execution_count": null,
   "metadata": {},
   "outputs": [],
   "source": []
  },
  {
   "cell_type": "code",
   "execution_count": null,
   "metadata": {},
   "outputs": [],
   "source": [
    "def letterCounter(text):\n",
    "    \"\"\"This function takes an input string and counts the occurrences of the letters a-z and A-Z and returns a dictionary with\n",
    "    key:value pairs representing the key letter and an associated value representing the number of  occurrences.\n",
    "    Note: This function counts both 'a' and 'A' as an occurrence of 'a'.\"\"\"\n",
    "    letters_of_interest=”abcdefghijklmnopqrstuvwxyz”\n",
    "\n",
    "\n",
    "    #The dictionary object that will contain the frequency (number of occurrences) of each letter in our test-string.\n",
    "    #Each key:value pair represents the key letter and an associated value representing the number of  occurrences.\n",
    "    letter_frequency={\"a\" : 0, \"b\" : 0, \"c\" : 0, \"d\" : 0, \"e\" : 0, \"f\" : 0, \"g\" : 0, \"h\" : 0, \"i\" : 0, \"j\" : 0, \"k\" : 0,\n",
    "         \"l\" : 0, \"m\" : 0, \"n\" : 0, \"o\" : 0, \"p\" : 0, \"q\" : 0, \"r\" : 0, \"s\" : 0, \"t\" : 0, \"u\" : 0, \"v\" : 0, \"w\" : 0, \"x\" : 0, \"y\" : 0, \"z\" : 0}\n",
    "\n",
    "    #convert string 'text' to all lowercase.\n",
    "    text = text.lower()\n",
    "\n",
    "    #Checking each character (char) in the string 'text' to see if it is a letter a-z, and counting it if is a letter\n",
    "    for char in text:\n",
    "        if char in letters_of_interest:\n",
    "            letter_frequency[char]=letter_frequency[char]+1\n",
    "\n",
    "    #return the letter-frequency dictionary\n",
    "    return letter_frequency"
   ]
  },
  {
   "cell_type": "code",
   "execution_count": null,
   "metadata": {},
   "outputs": [],
   "source": []
  },
  {
   "cell_type": "code",
   "execution_count": null,
   "metadata": {},
   "outputs": [],
   "source": [
    "#Using our text file in the letterCounter() function.\n",
    "print(letterCounter(test_string))"
   ]
  }
 ],
 "metadata": {
  "kernelspec": {
   "display_name": "Python 3",
   "language": "python",
   "name": "python3"
  },
  "language_info": {
   "codemirror_mode": {
    "name": "ipython",
    "version": 3
   },
   "file_extension": ".py",
   "mimetype": "text/x-python",
   "name": "python",
   "nbconvert_exporter": "python",
   "pygments_lexer": "ipython3",
   "version": "3.6.5"
  }
 },
 "nbformat": 4,
 "nbformat_minor": 1
}

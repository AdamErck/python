{
 "cells": [
  {
   "cell_type": "markdown",
   "metadata": {},
   "source": [
    "## Example 3 - Gettysburg Address (Slow)"
   ]
  },
  {
   "cell_type": "code",
   "execution_count": 36,
   "metadata": {},
   "outputs": [],
   "source": [
    "def count_char(text, char):\n",
    "    \"\"\"Function uses count to count the number of times a character occurs in a string\"\"\"\n",
    "    count = 0\n",
    "    for c in text:\n",
    "        if c == char:\n",
    "            count += 1\n",
    "    return count"
   ]
  },
  {
   "cell_type": "code",
   "execution_count": 37,
   "metadata": {},
   "outputs": [],
   "source": [
    "def letterCounterS(text):\n",
    "    \"\"\"This function was constructed using examples from the code learning app Solo Learn. This function uses a nested for loop to see if\n",
    "    the character (char) is in the supplied string 'text'. Returns a list containing the counts of each letter.'\"\"\"\n",
    "    counts = []\n",
    "\n",
    "    for char in \"abcdefghijklmnopqrstuvwxyz\":\n",
    "        counts.append(char + str(count_char(text, char)))\n",
    "    return counts"
   ]
  },
  {
   "cell_type": "code",
   "execution_count": 38,
   "metadata": {},
   "outputs": [
    {
     "name": "stdout",
     "output_type": "stream",
     "text": [
      "four score and seven years ago our fathers brought forth on this continent, a new nation, conceived in liberty, and dedicated to the proposition that all men are created equal.\n",
      "now we are engaged in a great civil war, testing whether that nation, or any nation so conceived and dedicated, can long endure. we are met on a great battle-field of that war. we have come to dedicate a portion of that field, as a final resting place for those who here gave their lives that that nation might live. it is altogether fitting and proper that we should do this.\n",
      "but, in a larger sense, we can not dedicate -- we can not consecrate -- we can not hallow -- this ground. the brave men, living and dead, who struggled here, have consecrated it, far above our poor power to add or detract. the world will little note, nor long remember what we say here, but it can never forget what they did here. it is for us the living, rather, to be dedicated here to the unfinished work which they who fought here have thus far so nobly advanced. it is rather for us to be here dedicated to the great task remaining before us -- that from these honored dead we take increased devotion to that cause for which they gave the last full measure of devotion -- that we here highly resolve that these dead shall not have died in vain -- that this nation, under god, shall have a new birth of freedom -- and that government of the people, by the people, for the people, shall not perish from the earth.\n",
      "\n"
     ]
    }
   ],
   "source": [
    "#Loading the Gettysburg Address as a string of text, and converting it to all lowercase letters.\n",
    "with open(\"files/gettysburgaddress.txt\") as x:\n",
    "    test_string = x.read()\n",
    "    test_string = test_string.lower()\n",
    "#Printing 'text' to see if loading occured correctly.\n",
    "print(test_string)"
   ]
  },
  {
   "cell_type": "code",
   "execution_count": 39,
   "metadata": {},
   "outputs": [
    {
     "name": "stdout",
     "output_type": "stream",
     "text": [
      "['a102', 'b14', 'c31', 'd58', 'e165', 'f27', 'g28', 'h80', 'i68', 'j0', 'k3', 'l42', 'm13', 'n77', 'o92', 'p15', 'q1', 'r79', 's43', 't126', 'u21', 'v24', 'w28', 'x0', 'y10', 'z0']\n"
     ]
    }
   ],
   "source": [
    "#Using our text file in the letterCounterS() function.\n",
    "print(letterCounterS(test_string))"
   ]
  },
  {
   "cell_type": "markdown",
   "metadata": {},
   "source": [
    "## Example 4 - Gettysburg Address (Fast)"
   ]
  },
  {
   "cell_type": "code",
   "execution_count": 40,
   "metadata": {},
   "outputs": [],
   "source": [
    "#Loading the Gettysburg Address as a string of text.\n",
    "with open(\"files/gettysburgaddress.txt\") as x:\n",
    "    test_string = x.read()"
   ]
  },
  {
   "cell_type": "code",
   "execution_count": 41,
   "metadata": {},
   "outputs": [
    {
     "name": "stdout",
     "output_type": "stream",
     "text": [
      "Four score and seven years ago our fathers brought forth on this continent, a new nation, conceived in Liberty, and dedicated to the proposition that all men are created equal.\n",
      "Now we are engaged in a great civil war, testing whether that nation, or any nation so conceived and dedicated, can long endure. We are met on a great battle-field of that war. We have come to dedicate a portion of that field, as a final resting place for those who here gave their lives that that nation might live. It is altogether fitting and proper that we should do this.\n",
      "But, in a larger sense, we can not dedicate -- we can not consecrate -- we can not hallow -- this ground. The brave men, living and dead, who struggled here, have consecrated it, far above our poor power to add or detract. The world will little note, nor long remember what we say here, but it can never forget what they did here. It is for us the living, rather, to be dedicated here to the unfinished work which they who fought here have thus far so nobly advanced. It is rather for us to be here dedicated to the great task remaining before us -- that from these honored dead we take increased devotion to that cause for which they gave the last full measure of devotion -- that we here highly resolve that these dead shall not have died in vain -- that this nation, under God, shall have a new birth of freedom -- and that government of the people, by the people, for the people, shall not perish from the earth.\n",
      "\n"
     ]
    }
   ],
   "source": [
    "#Print test_string to show file has been properly loaded\n",
    "print(test_string)"
   ]
  },
  {
   "cell_type": "code",
   "execution_count": 42,
   "metadata": {},
   "outputs": [],
   "source": [
    "def letterCounter(text):\n",
    "    \"\"\"This function takes an input string and counts the occurrences of the letters a-z and A-Z and returns a dictionary with\n",
    "    key:value pairs representing the key letter and an associated value representing the number of  occurrences.\n",
    "    Note: This function counts both 'a' and 'A' as an occurrence of 'a'.\"\"\"\n",
    "    letters_of_interest=\"abcdefghijklmnopqrstuvwxyz\"\n",
    "\n",
    "    #The dictionary object that will contain the frequency (number of occurrences) of each letter in our test-string.\n",
    "    #Each key:value pair represents the key letter and an associated value representing the number of  occurrences.\n",
    "    letter_frequency={\"a\" : 0, \"b\" : 0, \"c\" : 0, \"d\" : 0, \"e\" : 0, \"f\" : 0, \"g\" : 0, \"h\" : 0, \"i\" : 0, \"j\" : 0, \"k\" : 0,\n",
    "         \"l\" : 0, \"m\" : 0, \"n\" : 0, \"o\" : 0, \"p\" : 0, \"q\" : 0, \"r\" : 0, \"s\" : 0, \"t\" : 0, \"u\" : 0, \"v\" : 0, \"w\" : 0, \"x\" : 0, \"y\" : 0, \"z\" : 0}\n",
    "\n",
    "    #convert string 'text' to all lowercase.\n",
    "    text = text.lower()\n",
    "\n",
    "    #Checking each character (char) in the string 'text' to see if it is a letter a-z, and counting it if is a letter\n",
    "    for char in text:\n",
    "        if char in letters_of_interest:\n",
    "            letter_frequency[char]=letter_frequency[char]+1\n",
    "\n",
    "    #return the letter-frequency dictionary\n",
    "    return letter_frequency"
   ]
  },
  {
   "cell_type": "code",
   "execution_count": 43,
   "metadata": {},
   "outputs": [
    {
     "name": "stdout",
     "output_type": "stream",
     "text": [
      "{'a': 102, 'b': 14, 'c': 31, 'd': 58, 'e': 165, 'f': 27, 'g': 28, 'h': 80, 'i': 68, 'j': 0, 'k': 3, 'l': 42, 'm': 13, 'n': 77, 'o': 92, 'p': 15, 'q': 1, 'r': 79, 's': 43, 't': 126, 'u': 21, 'v': 24, 'w': 28, 'x': 0, 'y': 10, 'z': 0}\n"
     ]
    }
   ],
   "source": [
    "letter_frequency = letterCounter(test_string)\n",
    "print(letter_frequency)"
   ]
  },
  {
   "cell_type": "markdown",
   "metadata": {},
   "source": [
    "## Basic Visualization of \"The Gettysburg Address\""
   ]
  },
  {
   "cell_type": "code",
   "execution_count": 44,
   "metadata": {},
   "outputs": [
    {
     "data": {
      "image/png": "[encoded data removed]",
      "text/plain": [
       "<Figure size 720x360 with 1 Axes>"
      ]
     },
     "metadata": {},
     "output_type": "display_data"
    }
   ],
   "source": [
    "import matplotlib.pyplot as plt\n",
    "\n",
    "plt.figure(figsize=(10,5))\n",
    "plt.bar(list(letter_frequency.keys()), letter_frequency.values(), color='#fd8309')\n",
    "plt.show()"
   ]
  }
 ],
 "metadata": {
  "kernelspec": {
   "display_name": "Python 3",
   "language": "python",
   "name": "python3"
  },
  "language_info": {
   "codemirror_mode": {
    "name": "ipython",
    "version": 3
   },
   "file_extension": ".py",
   "mimetype": "text/x-python",
   "name": "python",
   "nbconvert_exporter": "python",
   "pygments_lexer": "ipython3",
   "version": "3.6.5"
  }
 },
 "nbformat": 4,
 "nbformat_minor": 1
}
